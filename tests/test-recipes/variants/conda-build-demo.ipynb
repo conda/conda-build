{
 "cells": [
  {
   "cell_type": "markdown",
   "metadata": {},
   "source": [
    "# Conda Build 3 new features demo"
   ]
  },
  {
   "cell_type": "markdown",
   "metadata": {},
   "source": [
    "Handling version compatibility is one of the hardest challenges in building software.  Up to now, conda-build provided helpful tools in terms of the ability to constrain or pin versions in recipes.  The limiting thing about this capability was that it entailed editing a lot of recipes.  Conda-build 3 introduces a new scheme for controlling version constraints, which enhances behavior in two ways.  First, you can now set versions in an external file, and you can provide lists of versions for conda-build to loop over.  Matrix builds are now much simpler and no longer require an external tool, such as conda-build-all.  Second, there have been several new Jinja2 functions added, which allow recipe authors to express their constraints relative to the versions of packages installed at build time.  This dynamic expression greatly cuts down on the need for editing recipes.\n",
    "\n",
    "Each of these developments have enabled interesting new capabilities for cross-compiling, as well as improving package compatibility by adding more intelligent constraints."
   ]
  },
  {
   "cell_type": "markdown",
   "metadata": {},
   "source": [
    "This document is intended as a quick overview of new features in conda-build 3.  For more information, see the docs PR at https://github.com/conda/conda-docs/pull/414\n",
    "\n",
    "These demos use conda-build's python API to render and build recipes.  That API currently does not have a docs page, but is pretty self explanatory.  See the source at https://github.com/conda/conda-build/blob/master/conda_build/api.py"
   ]
  },
  {
   "cell_type": "code",
   "execution_count": null,
   "metadata": {
    "collapsed": false
   },
   "outputs": [],
   "source": [
    "from conda_build import api\n",
    "import os\n",
    "from pprint import pprint"
   ]
  },
  {
   "cell_type": "markdown",
   "metadata": {},
   "source": [
    "First, set up some helper functions that will output recipe contents in a nice-to-read way:"
   ]
  },
  {
   "cell_type": "code",
   "execution_count": null,
   "metadata": {
    "collapsed": false
   },
   "outputs": [],
   "source": [
    "def print_yamls(recipe, **kwargs):\n",
    "    yamls = [api.output_yaml(m[0]) \n",
    "             for m in api.render(recipe, verbose=False, permit_unsatisfiable_variants=True, **kwargs)]\n",
    "    for yaml in yamls:\n",
    "        print(yaml)"
   ]
  },
  {
   "cell_type": "code",
   "execution_count": null,
   "metadata": {
    "collapsed": false
   },
   "outputs": [],
   "source": [
    "def print_outputs(recipe, **kwargs):\n",
    "    pprint(api.get_output_file_paths(recipe, verbose=False, **kwargs))"
   ]
  },
  {
   "cell_type": "markdown",
   "metadata": {},
   "source": [
    "Most of the new functionality revolves around much more powerful use of jinja2 templates.  The core idea is that there is now a separate configuration file that can be used to insert many different entries into your meta.yaml files."
   ]
  },
  {
   "cell_type": "code",
   "execution_count": null,
   "metadata": {
    "collapsed": false
   },
   "outputs": [],
   "source": [
    "!cat 01_basic_templating/meta.yaml"
   ]
  },
  {
   "cell_type": "code",
   "execution_count": null,
   "metadata": {
    "collapsed": false
   },
   "outputs": [],
   "source": [
    "# The configuration is hierarchical - it can draw from many config files.  One place they can live is alongside meta.yaml:\n",
    "!cat 01_basic_templating/conda_build_config.yaml"
   ]
  },
  {
   "cell_type": "markdown",
   "metadata": {},
   "source": [
    "Since we have one slot in meta.yaml, and two values for that one slot, we should end up with two output packages:"
   ]
  },
  {
   "cell_type": "code",
   "execution_count": null,
   "metadata": {
    "collapsed": false
   },
   "outputs": [],
   "source": [
    "print_outputs('01_basic_templating/')"
   ]
  },
  {
   "cell_type": "code",
   "execution_count": null,
   "metadata": {
    "collapsed": false
   },
   "outputs": [],
   "source": [
    "print_yamls('01_basic_templating/')"
   ]
  },
  {
   "cell_type": "markdown",
   "metadata": {},
   "source": [
    "OK, that's fun already.  But wait, there's more!\n",
    "\n",
    "People are used to not needing to explicitly pin numpy.  Conda-build 3 supports that, as well as explicit pinning."
   ]
  },
  {
   "cell_type": "code",
   "execution_count": null,
   "metadata": {
    "collapsed": false
   },
   "outputs": [],
   "source": [
    "!cat 02_python_version/meta.yaml"
   ]
  },
  {
   "cell_type": "code",
   "execution_count": null,
   "metadata": {
    "collapsed": false
   },
   "outputs": [],
   "source": [
    "!cat 02_python_version/conda_build_config.yaml"
   ]
  },
  {
   "cell_type": "code",
   "execution_count": null,
   "metadata": {
    "collapsed": false
   },
   "outputs": [],
   "source": [
    "print_yamls('02_python_version/')"
   ]
  },
  {
   "cell_type": "code",
   "execution_count": null,
   "metadata": {
    "collapsed": false
   },
   "outputs": [],
   "source": [
    "# Setting environment variables overrides the conda_build_config.yaml.  This preserves older, well-established behavior.\n",
    "os.environ[\"CONDA_PY\"] = \"3.4\"\n",
    "print_yamls('02_python_version/')\n",
    "del os.environ['CONDA_PY']"
   ]
  },
  {
   "cell_type": "code",
   "execution_count": null,
   "metadata": {
    "collapsed": false
   },
   "outputs": [],
   "source": [
    "# passing python as an argument (CLI or to the API) also overrides conda_build_config.yaml\n",
    "print_yamls('02_python_version/', python=\"3.6\")"
   ]
  },
  {
   "cell_type": "markdown",
   "metadata": {},
   "source": [
    "Wait a minute - what is that ``h7d013e7`` gobbledygook in the build/string field?\n",
    "\n",
    "Conda-build 3 aims to generalize pinning/constraints.  Such constraints differentiate a package.  For example, in the past, we have had things like py27np111 in filenames.  This is the same idea, just generalized.  Since we can't readily put every possible constraint into the filename, we have kept the old ones, but added the hash as a general solution.\n",
    "\n",
    "There's more information about what goes into a hash at https://github.com/conda/conda-docs/pull/414/files#diff-d1a5dbb2f223de4935d93990676c7074R919\n",
    "\n",
    "Let's take a look at how to inspect the hash contents of a built package."
   ]
  },
  {
   "cell_type": "code",
   "execution_count": null,
   "metadata": {
    "collapsed": false
   },
   "outputs": [],
   "source": [
    "outputs = api.build('02_python_version/', python=\"3.6\", \n",
    "                    anaconda_upload=False)\n",
    "pkg_file = outputs[0]\n",
    "print(pkg_file)"
   ]
  },
  {
   "cell_type": "code",
   "execution_count": null,
   "metadata": {
    "collapsed": false
   },
   "outputs": [],
   "source": [
    "# using command line here just to show you that this command exists.\n",
    "!conda inspect hash-inputs ~/miniconda3/conda-bld/osx-64/abc-1.0-py36ha934722_0.tar.bz2"
   ]
  },
  {
   "cell_type": "markdown",
   "metadata": {},
   "source": [
    "When numpy gets involved, things get more fun.  The simplest use of numpy is just for its python interface - not using its C header.  For such usage, we don't need to pin numpy in the output packages."
   ]
  },
  {
   "cell_type": "code",
   "execution_count": null,
   "metadata": {
    "collapsed": false
   },
   "outputs": [],
   "source": [
    "!cat 03_numpy_matrix/meta.yaml"
   ]
  },
  {
   "cell_type": "code",
   "execution_count": null,
   "metadata": {
    "collapsed": false
   },
   "outputs": [],
   "source": [
    "!cat 03_numpy_matrix/conda_build_config.yaml"
   ]
  },
  {
   "cell_type": "markdown",
   "metadata": {},
   "source": [
    "OK, so I'm hoping that we get only two packages here - one for each Python version, but not one for each numpy version."
   ]
  },
  {
   "cell_type": "code",
   "execution_count": null,
   "metadata": {
    "collapsed": false,
    "scrolled": false
   },
   "outputs": [],
   "source": [
    "pprint(api.get_output_file_paths('03_numpy_matrix/', verbose=False))"
   ]
  },
  {
   "cell_type": "code",
   "execution_count": null,
   "metadata": {
    "collapsed": false
   },
   "outputs": [],
   "source": [
    "print_yamls('03_numpy_matrix/')"
   ]
  },
  {
   "cell_type": "markdown",
   "metadata": {},
   "source": [
    "What about when we do use numpy's C API, and we do need to pin it so that a particular version is available at runtime?"
   ]
  },
  {
   "cell_type": "code",
   "execution_count": null,
   "metadata": {
    "collapsed": false
   },
   "outputs": [],
   "source": [
    "!cat 04_numpy_matrix_pinned/meta.yaml"
   ]
  },
  {
   "cell_type": "code",
   "execution_count": null,
   "metadata": {
    "collapsed": false
   },
   "outputs": [],
   "source": [
    "!cat 04_numpy_matrix_pinned/conda_build_config.yaml"
   ]
  },
  {
   "cell_type": "markdown",
   "metadata": {},
   "source": [
    "pin_run_as_build is a special extra key in the config file.  It is a generalization of the ``x.x`` concept that existed for numpy since 2015.  There's more information at https://github.com/conda/conda-docs/pull/414/files#diff-d1a5dbb2f223de4935d93990676c7074R757\n",
    "\n",
    "Each x indicates another level of pinning in the output recipe."
   ]
  },
  {
   "cell_type": "code",
   "execution_count": null,
   "metadata": {
    "collapsed": false
   },
   "outputs": [],
   "source": [
    "print_outputs('04_numpy_matrix_pinned/')"
   ]
  },
  {
   "cell_type": "code",
   "execution_count": null,
   "metadata": {
    "collapsed": false
   },
   "outputs": [],
   "source": [
    "print_yamls('04_numpy_matrix_pinned/')"
   ]
  },
  {
   "cell_type": "markdown",
   "metadata": {},
   "source": [
    "OK, you've now seen several examples of \"pinning expressions\" - things like x.x that apply pins more or less stringently.  Let's take a look at how we can control the relationship of these constraints.  Before now you could certainly accomplish pinning, it just took more work.  Now you can define your pinning expressions, and then change your target versions only in one config file."
   ]
  },
  {
   "cell_type": "code",
   "execution_count": null,
   "metadata": {
    "collapsed": false
   },
   "outputs": [],
   "source": [
    "!cat 05_compatible/meta.yaml"
   ]
  },
  {
   "cell_type": "markdown",
   "metadata": {},
   "source": [
    "This is effectively saying \"add a runtime libpng constraint that follows conda-build's default behavior, relative to the version of libpng that was used at build time\"\n",
    "\n",
    "The default behavior is: exact version match lower bound (\"x.x.x.x.x.x.x\"), next major version upper bound (\"x\")"
   ]
  },
  {
   "cell_type": "code",
   "execution_count": null,
   "metadata": {
    "collapsed": false
   },
   "outputs": [],
   "source": [
    "print_yamls('05_compatible/')"
   ]
  },
  {
   "cell_type": "markdown",
   "metadata": {},
   "source": [
    "These constraints are completely customizable with pinning expressions:"
   ]
  },
  {
   "cell_type": "code",
   "execution_count": null,
   "metadata": {
    "collapsed": false
   },
   "outputs": [],
   "source": [
    "!cat 06_compatible_custom/meta.yaml"
   ]
  },
  {
   "cell_type": "code",
   "execution_count": null,
   "metadata": {
    "collapsed": false
   },
   "outputs": [],
   "source": [
    "print_yamls('06_compatible_custom/')"
   ]
  },
  {
   "cell_type": "markdown",
   "metadata": {},
   "source": [
    "Finally, you can also manually specify version bounds.  These supersede any relative constraints."
   ]
  },
  {
   "cell_type": "code",
   "execution_count": null,
   "metadata": {
    "collapsed": false
   },
   "outputs": [],
   "source": [
    "!cat 07_compatible_custom_lower_upper/meta.yaml"
   ]
  },
  {
   "cell_type": "code",
   "execution_count": null,
   "metadata": {
    "collapsed": false
   },
   "outputs": [],
   "source": [
    "print_yamls('07_compatible_custom_lower_upper/')"
   ]
  },
  {
   "cell_type": "markdown",
   "metadata": {},
   "source": [
    "Much of the development of conda-build 3 has been inspired by improving the compiler toolchain situation.  Conda-build 3 adds special support for more dynamic specification of compilers."
   ]
  },
  {
   "cell_type": "code",
   "execution_count": null,
   "metadata": {
    "collapsed": false
   },
   "outputs": [],
   "source": [
    "!cat 08_compiler/meta.yaml"
   ]
  },
  {
   "cell_type": "markdown",
   "metadata": {},
   "source": [
    "By replacing any actual compiler with this jinja2 function, we're free to swap in different compilers based on the contents of the conda_build_config.yaml file (or other variant configuration).  Rather than saying \"I need gcc,\" we are saying \"I need a C compiler.\"\n",
    "\n",
    "By doing so, recipes are much more dynamic, and conda-build also helps to keep your recipes in line with respect to runtimes."
   ]
  },
  {
   "cell_type": "code",
   "execution_count": null,
   "metadata": {
    "collapsed": false
   },
   "outputs": [],
   "source": [
    "print_yamls('08_compiler/')"
   ]
  },
  {
   "cell_type": "markdown",
   "metadata": {},
   "source": [
    "Conda-build 3 is very good at allowing cross compiling.  For example, we have the same placeholder compiler recipe:"
   ]
  },
  {
   "cell_type": "code",
   "execution_count": null,
   "metadata": {
    "collapsed": false
   },
   "outputs": [],
   "source": [
    "!cat 09_cross/meta.yaml"
   ]
  },
  {
   "cell_type": "code",
   "execution_count": null,
   "metadata": {
    "collapsed": false
   },
   "outputs": [],
   "source": [
    "# but by adding in a base compiler name, and target platforms, we can make a build matrix\n",
    "#   This is not magic, the compiler packages must already exist.  Conda-build is only following a naming scheme.\n",
    "!cat 09_cross/conda_build_config.yaml"
   ]
  },
  {
   "cell_type": "code",
   "execution_count": null,
   "metadata": {
    "collapsed": false
   },
   "outputs": [],
   "source": [
    "print_yamls('09_cross/')"
   ]
  },
  {
   "cell_type": "markdown",
   "metadata": {},
   "source": [
    "Finally, it is frequently a problem to remember to add runtime dependencies.  Sometimes the recipe author is not entirely familiar with the lower level code, and has no idea about runtime dependencies.  Other times, it's just a pain to keep versions of runtime dependencies in line.  Conda-build 3 introduces a way of storing the required runtime dependencies *on the package providing the dependency at build time.*\n",
    "\n",
    "For example, using g++ in a non-static configuration will require that the end-user have a sufficiently new libstdc++ runtime library available at runtime.  Many people don't currently include this in their recipes.  Sometimes the system libstdc++ is adequate, but often not.  By imposing the downstream dependency, we can make sure that people don't forget the runtime dependency."
   ]
  },
  {
   "cell_type": "code",
   "execution_count": null,
   "metadata": {
    "collapsed": false
   },
   "outputs": [],
   "source": [
    "# First, a package that provides some library.  \n",
    "#  When anyone uses this library, they need to include the appropriate runtime.\n",
    "!cat 10_runtimes/uses_run_exports/meta.yaml"
   ]
  },
  {
   "cell_type": "code",
   "execution_count": null,
   "metadata": {
    "collapsed": false
   },
   "outputs": [],
   "source": [
    "# This is the simple downstream package that uses the library provided in the previous recipe.\n",
    "!cat 10_runtimes/consumes_exports/meta.yaml"
   ]
  },
  {
   "cell_type": "code",
   "execution_count": null,
   "metadata": {
    "collapsed": false
   },
   "outputs": [],
   "source": [
    "# let's build the former package first.\n",
    "api.build('10_runtimes/uses_run_exports', anaconda_upload=False)"
   ]
  },
  {
   "cell_type": "code",
   "execution_count": null,
   "metadata": {
    "collapsed": false
   },
   "outputs": [],
   "source": [
    "print_yamls('10_runtimes/consumes_exports')"
   ]
  },
  {
   "cell_type": "markdown",
   "metadata": {
    "collapsed": true
   },
   "source": [
    "In the above recipe, note that bzip2 has been added as a runtime dependency, and is pinned according to conda-build's default pin_compatible scheme."
   ]
  }
 ],
 "metadata": {
  "kernelspec": {
   "display_name": "Python 3",
   "language": "python",
   "name": "python3"
  },
  "language_info": {
   "codemirror_mode": {
    "name": "ipython",
    "version": 3
   },
   "file_extension": ".py",
   "mimetype": "text/x-python",
   "name": "python",
   "nbconvert_exporter": "python",
   "pygments_lexer": "ipython3",
   "version": "3.6.0"
  }
 },
 "nbformat": 4,
 "nbformat_minor": 1
}
